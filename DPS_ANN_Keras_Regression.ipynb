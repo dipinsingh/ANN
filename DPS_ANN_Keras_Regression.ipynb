{
 "cells": [
  {
   "cell_type": "code",
   "execution_count": null,
   "metadata": {},
   "outputs": [],
   "source": [
    "## 2 EXMPLES"
   ]
  },
  {
   "cell_type": "markdown",
   "metadata": {},
   "source": [
    "# EXAMPLE 1"
   ]
  },
  {
   "cell_type": "code",
   "execution_count": null,
   "metadata": {
    "scrolled": false
   },
   "outputs": [],
   "source": [
    "import random\n",
    "import numpy as np\n",
    "import matplotlib.pyplot as plt\n",
    "from keras.models import Sequential\n",
    "from keras.layers import Dense\n",
    "from keras.wrappers.scikit_learn import KerasRegressor\n",
    "from sklearn.metrics import mean_squared_error"
   ]
  },
  {
   "cell_type": "code",
   "execution_count": null,
   "metadata": {},
   "outputs": [],
   "source": [
    "## Preparing Data"
   ]
  },
  {
   "cell_type": "code",
   "execution_count": null,
   "metadata": {},
   "outputs": [],
   "source": [
    "random.seed(123)\n",
    "def CreateDataset(N):\n",
    " a,b,c,y = [],[],[],[]\n",
    " for i in range(N):    \n",
    "  aa = i/10+random.uniform(-4,3)\n",
    "  bb = i/30+random.uniform(-4,4)\n",
    "  cc = i/40+random.uniform(-3,3)-5\n",
    "  yy = (aa+bb+cc/2)/3\n",
    "  a.append([aa])\n",
    "  b.append([bb])\n",
    "  c.append([cc])\n",
    "  y.append([yy])\n",
    " return np.hstack([a,b,c]), np.array(y)"
   ]
  },
  {
   "cell_type": "code",
   "execution_count": null,
   "metadata": {
    "scrolled": true
   },
   "outputs": [],
   "source": [
    "N = 200\n",
    "x,y = CreateDataset(N)\n",
    "x_ax = range(N)\n",
    "plt.plot(x_ax, x, 'o', label=\"feature\", markersize=3)\n",
    "plt.plot(x_ax, y, lw=1.5, color=\"red\", label=\"y\")\n",
    "plt.legend()\n",
    "plt.show()"
   ]
  },
  {
   "cell_type": "markdown",
   "metadata": {},
   "source": [
    "## Defining the model"
   ]
  },
  {
   "cell_type": "code",
   "execution_count": null,
   "metadata": {},
   "outputs": [],
   "source": [
    "def BuildModel():\n",
    " model = Sequential()\n",
    " model.add(Dense(128, input_dim=3,activation='relu')) \n",
    " model.add(Dense(32, activation='relu')) \n",
    " model.add(Dense(8,activation='relu')) \n",
    " model.add(Dense(1,activation='linear'))\n",
    " model.compile(loss=\"mean_squared_error\", optimizer=\"adam\")   \n",
    " return model"
   ]
  },
  {
   "cell_type": "code",
   "execution_count": null,
   "metadata": {},
   "outputs": [],
   "source": [
    "BuildModel().summary()"
   ]
  },
  {
   "cell_type": "markdown",
   "metadata": {},
   "source": [
    "## OPTION 1: Fitting with KerasRegressor"
   ]
  },
  {
   "cell_type": "code",
   "execution_count": null,
   "metadata": {},
   "outputs": [],
   "source": [
    "regressor = KerasRegressor(build_fn=BuildModel,nb_epoch=100,batch_size=3)\n",
    "regressor.fit(x,y) \n"
   ]
  },
  {
   "cell_type": "code",
   "execution_count": null,
   "metadata": {},
   "outputs": [],
   "source": [
    "## Predition"
   ]
  },
  {
   "cell_type": "code",
   "execution_count": null,
   "metadata": {},
   "outputs": [],
   "source": [
    "y_pred = regressor.predict(x)"
   ]
  },
  {
   "cell_type": "code",
   "execution_count": null,
   "metadata": {},
   "outputs": [],
   "source": [
    "mse_krr = mean_squared_error(y, y_pred)\n",
    "print(mse_krr)"
   ]
  },
  {
   "cell_type": "code",
   "execution_count": null,
   "metadata": {},
   "outputs": [],
   "source": [
    "plt.plot(y, label=\"y-original\")\n",
    "plt.plot(y_pred, label=\"y-predicted\")\n",
    "plt.legend()\n",
    "plt.show()"
   ]
  },
  {
   "cell_type": "markdown",
   "metadata": {},
   "source": [
    "## OPTION 2: Fitting with keras sequential model"
   ]
  },
  {
   "cell_type": "code",
   "execution_count": null,
   "metadata": {},
   "outputs": [],
   "source": [
    "model = BuildModel()\n",
    "model.fit(x, y, nb_epoch=20, verbose=False, shuffle=False)"
   ]
  },
  {
   "cell_type": "code",
   "execution_count": null,
   "metadata": {},
   "outputs": [],
   "source": [
    "y_krm = model.predict(x) "
   ]
  },
  {
   "cell_type": "code",
   "execution_count": null,
   "metadata": {},
   "outputs": [],
   "source": [
    " \n",
    "mse_krm=mean_squared_error(y, y_krm)\n",
    "print(mse_krm)"
   ]
  },
  {
   "cell_type": "code",
   "execution_count": null,
   "metadata": {
    "scrolled": true
   },
   "outputs": [],
   "source": [
    "plt.plot(y, label=\"y-original\")\n",
    "plt.plot(y_krm, label=\"y-predicted\")\n",
    "plt.legend()\n",
    "plt.show()"
   ]
  },
  {
   "cell_type": "code",
   "execution_count": null,
   "metadata": {},
   "outputs": [],
   "source": []
  },
  {
   "cell_type": "code",
   "execution_count": null,
   "metadata": {},
   "outputs": [],
   "source": []
  },
  {
   "cell_type": "markdown",
   "metadata": {},
   "source": [
    "# EXAMPLE 2"
   ]
  },
  {
   "cell_type": "code",
   "execution_count": null,
   "metadata": {},
   "outputs": [],
   "source": [
    "# Source - https://www.marktechpost.com/2019/06/17/regression-with-keras-deep-learning-with-keras-part-3/"
   ]
  },
  {
   "cell_type": "code",
   "execution_count": 1,
   "metadata": {},
   "outputs": [
    {
     "name": "stderr",
     "output_type": "stream",
     "text": [
      "Using TensorFlow backend.\n",
      "D:\\Anaconda\\envs\\tf_1.14\\lib\\site-packages\\tensorflow\\python\\framework\\dtypes.py:516: FutureWarning: Passing (type, 1) or '1type' as a synonym of type is deprecated; in a future version of numpy, it will be understood as (type, (1,)) / '(1,)type'.\n",
      "  _np_qint8 = np.dtype([(\"qint8\", np.int8, 1)])\n",
      "D:\\Anaconda\\envs\\tf_1.14\\lib\\site-packages\\tensorflow\\python\\framework\\dtypes.py:517: FutureWarning: Passing (type, 1) or '1type' as a synonym of type is deprecated; in a future version of numpy, it will be understood as (type, (1,)) / '(1,)type'.\n",
      "  _np_quint8 = np.dtype([(\"quint8\", np.uint8, 1)])\n",
      "D:\\Anaconda\\envs\\tf_1.14\\lib\\site-packages\\tensorflow\\python\\framework\\dtypes.py:518: FutureWarning: Passing (type, 1) or '1type' as a synonym of type is deprecated; in a future version of numpy, it will be understood as (type, (1,)) / '(1,)type'.\n",
      "  _np_qint16 = np.dtype([(\"qint16\", np.int16, 1)])\n",
      "D:\\Anaconda\\envs\\tf_1.14\\lib\\site-packages\\tensorflow\\python\\framework\\dtypes.py:519: FutureWarning: Passing (type, 1) or '1type' as a synonym of type is deprecated; in a future version of numpy, it will be understood as (type, (1,)) / '(1,)type'.\n",
      "  _np_quint16 = np.dtype([(\"quint16\", np.uint16, 1)])\n",
      "D:\\Anaconda\\envs\\tf_1.14\\lib\\site-packages\\tensorflow\\python\\framework\\dtypes.py:520: FutureWarning: Passing (type, 1) or '1type' as a synonym of type is deprecated; in a future version of numpy, it will be understood as (type, (1,)) / '(1,)type'.\n",
      "  _np_qint32 = np.dtype([(\"qint32\", np.int32, 1)])\n",
      "D:\\Anaconda\\envs\\tf_1.14\\lib\\site-packages\\tensorflow\\python\\framework\\dtypes.py:525: FutureWarning: Passing (type, 1) or '1type' as a synonym of type is deprecated; in a future version of numpy, it will be understood as (type, (1,)) / '(1,)type'.\n",
      "  np_resource = np.dtype([(\"resource\", np.ubyte, 1)])\n",
      "D:\\Anaconda\\envs\\tf_1.14\\lib\\site-packages\\tensorboard\\compat\\tensorflow_stub\\dtypes.py:541: FutureWarning: Passing (type, 1) or '1type' as a synonym of type is deprecated; in a future version of numpy, it will be understood as (type, (1,)) / '(1,)type'.\n",
      "  _np_qint8 = np.dtype([(\"qint8\", np.int8, 1)])\n",
      "D:\\Anaconda\\envs\\tf_1.14\\lib\\site-packages\\tensorboard\\compat\\tensorflow_stub\\dtypes.py:542: FutureWarning: Passing (type, 1) or '1type' as a synonym of type is deprecated; in a future version of numpy, it will be understood as (type, (1,)) / '(1,)type'.\n",
      "  _np_quint8 = np.dtype([(\"quint8\", np.uint8, 1)])\n",
      "D:\\Anaconda\\envs\\tf_1.14\\lib\\site-packages\\tensorboard\\compat\\tensorflow_stub\\dtypes.py:543: FutureWarning: Passing (type, 1) or '1type' as a synonym of type is deprecated; in a future version of numpy, it will be understood as (type, (1,)) / '(1,)type'.\n",
      "  _np_qint16 = np.dtype([(\"qint16\", np.int16, 1)])\n",
      "D:\\Anaconda\\envs\\tf_1.14\\lib\\site-packages\\tensorboard\\compat\\tensorflow_stub\\dtypes.py:544: FutureWarning: Passing (type, 1) or '1type' as a synonym of type is deprecated; in a future version of numpy, it will be understood as (type, (1,)) / '(1,)type'.\n",
      "  _np_quint16 = np.dtype([(\"quint16\", np.uint16, 1)])\n",
      "D:\\Anaconda\\envs\\tf_1.14\\lib\\site-packages\\tensorboard\\compat\\tensorflow_stub\\dtypes.py:545: FutureWarning: Passing (type, 1) or '1type' as a synonym of type is deprecated; in a future version of numpy, it will be understood as (type, (1,)) / '(1,)type'.\n",
      "  _np_qint32 = np.dtype([(\"qint32\", np.int32, 1)])\n",
      "D:\\Anaconda\\envs\\tf_1.14\\lib\\site-packages\\tensorboard\\compat\\tensorflow_stub\\dtypes.py:550: FutureWarning: Passing (type, 1) or '1type' as a synonym of type is deprecated; in a future version of numpy, it will be understood as (type, (1,)) / '(1,)type'.\n",
      "  np_resource = np.dtype([(\"resource\", np.ubyte, 1)])\n"
     ]
    }
   ],
   "source": [
    "import random\n",
    "import numpy as np\n",
    "import matplotlib.pyplot as plt\n",
    "from keras.models import Sequential\n",
    "from keras.layers import Dense\n",
    "from keras.wrappers.scikit_learn import KerasRegressor\n",
    "from sklearn.metrics import mean_squared_error"
   ]
  },
  {
   "cell_type": "markdown",
   "metadata": {},
   "source": [
    "### Step1 : Loading Data"
   ]
  },
  {
   "cell_type": "code",
   "execution_count": 2,
   "metadata": {},
   "outputs": [],
   "source": [
    "from keras.datasets import boston_housing\n",
    "(X_train, y_train), (X_test, y_test) = boston_housing.load_data()"
   ]
  },
  {
   "cell_type": "code",
   "execution_count": 3,
   "metadata": {},
   "outputs": [
    {
     "data": {
      "text/plain": [
       "((404, 13), (404,), (102, 13), (102,))"
      ]
     },
     "execution_count": 3,
     "metadata": {},
     "output_type": "execute_result"
    }
   ],
   "source": [
    "X_train.shape, y_train.shape , X_test.shape, y_test.shape"
   ]
  },
  {
   "cell_type": "code",
   "execution_count": 4,
   "metadata": {
    "scrolled": true
   },
   "outputs": [
    {
     "data": {
      "text/plain": [
       "array([15.2, 42.3, 50. , 21.1, 17.7, 18.5, 11.3, 15.6, 15.6, 14.4, 12.1,\n",
       "       17.9, 23.1, 19.9, 15.7,  8.8, 50. , 22.5, 24.1, 27.5, 10.9, 30.8,\n",
       "       32.9, 24. , 18.5, 13.3, 22.9, 34.7, 16.6, 17.5, 22.3, 16.1, 14.9,\n",
       "       23.1, 34.9, 25. , 13.9, 13.1, 20.4, 20. , 15.2, 24.7, 22.2, 16.7,\n",
       "       12.7, 15.6, 18.4, 21. , 30.1, 15.1, 18.7,  9.6, 31.5, 24.8, 19.1,\n",
       "       22. , 14.5, 11. , 32. , 29.4, 20.3, 24.4, 14.6, 19.5, 14.1, 14.3,\n",
       "       15.6, 10.5,  6.3, 19.3, 19.3, 13.4, 36.4, 17.8, 13.5, 16.5,  8.3,\n",
       "       14.3, 16. , 13.4, 28.6, 43.5, 20.2, 22. , 23. , 20.7, 12.5, 48.5,\n",
       "       14.6, 13.4, 23.7, 50. , 21.7, 39.8, 38.7, 22.2, 34.9, 22.5, 31.1,\n",
       "       28.7, 46. , 41.7, 21. , 26.6, 15. , 24.4, 13.3, 21.2, 11.7, 21.7,\n",
       "       19.4, 50. , 22.8, 19.7, 24.7, 36.2, 14.2, 18.9, 18.3, 20.6, 24.6,\n",
       "       18.2,  8.7, 44. , 10.4, 13.2, 21.2, 37. , 30.7, 22.9, 20. , 19.3,\n",
       "       31.7, 32. , 23.1, 18.8, 10.9, 50. , 19.6,  5. , 14.4, 19.8, 13.8,\n",
       "       19.6, 23.9, 24.5, 25. , 19.9, 17.2, 24.6, 13.5, 26.6, 21.4, 11.9,\n",
       "       22.6, 19.6,  8.5, 23.7, 23.1, 22.4, 20.5, 23.6, 18.4, 35.2, 23.1,\n",
       "       27.9, 20.6, 23.7, 28. , 13.6, 27.1, 23.6, 20.6, 18.2, 21.7, 17.1,\n",
       "        8.4, 25.3, 13.8, 22.2, 18.4, 20.7, 31.6, 30.5, 20.3,  8.8, 19.2,\n",
       "       19.4, 23.1, 23. , 14.8, 48.8, 22.6, 33.4, 21.1, 13.6, 32.2, 13.1,\n",
       "       23.4, 18.9, 23.9, 11.8, 23.3, 22.8, 19.6, 16.7, 13.4, 22.2, 20.4,\n",
       "       21.8, 26.4, 14.9, 24.1, 23.8, 12.3, 29.1, 21. , 19.5, 23.3, 23.8,\n",
       "       17.8, 11.5, 21.7, 19.9, 25. , 33.4, 28.5, 21.4, 24.3, 27.5, 33.1,\n",
       "       16.2, 23.3, 48.3, 22.9, 22.8, 13.1, 12.7, 22.6, 15. , 15.3, 10.5,\n",
       "       24. , 18.5, 21.7, 19.5, 33.2, 23.2,  5. , 19.1, 12.7, 22.3, 10.2,\n",
       "       13.9, 16.3, 17. , 20.1, 29.9, 17.2, 37.3, 45.4, 17.8, 23.2, 29. ,\n",
       "       22. , 18. , 17.4, 34.6, 20.1, 25. , 15.6, 24.8, 28.2, 21.2, 21.4,\n",
       "       23.8, 31. , 26.2, 17.4, 37.9, 17.5, 20. ,  8.3, 23.9,  8.4, 13.8,\n",
       "        7.2, 11.7, 17.1, 21.6, 50. , 16.1, 20.4, 20.6, 21.4, 20.6, 36.5,\n",
       "        8.5, 24.8, 10.8, 21.9, 17.3, 18.9, 36.2, 14.9, 18.2, 33.3, 21.8,\n",
       "       19.7, 31.6, 24.8, 19.4, 22.8,  7.5, 44.8, 16.8, 18.7, 50. , 50. ,\n",
       "       19.5, 20.1, 50. , 17.2, 20.8, 19.3, 41.3, 20.4, 20.5, 13.8, 16.5,\n",
       "       23.9, 20.6, 31.5, 23.3, 16.8, 14. , 33.8, 36.1, 12.8, 18.3, 18.7,\n",
       "       19.1, 29. , 30.1, 50. , 50. , 22. , 11.9, 37.6, 50. , 22.7, 20.8,\n",
       "       23.5, 27.9, 50. , 19.3, 23.9, 22.6, 15.2, 21.7, 19.2, 43.8, 20.3,\n",
       "       33.2, 19.9, 22.5, 32.7, 22. , 17.1, 19. , 15. , 16.1, 25.1, 23.7,\n",
       "       28.7, 37.2, 22.6, 16.4, 25. , 29.8, 22.1, 17.4, 18.1, 30.3, 17.5,\n",
       "       24.7, 12.6, 26.5, 28.7, 13.3, 10.4, 24.4, 23. , 20. , 17.8,  7. ,\n",
       "       11.8, 24.4, 13.8, 19.4, 25.2, 19.4, 19.4, 29.1])"
      ]
     },
     "execution_count": 4,
     "metadata": {},
     "output_type": "execute_result"
    }
   ],
   "source": [
    "y_train"
   ]
  },
  {
   "cell_type": "code",
   "execution_count": 5,
   "metadata": {},
   "outputs": [
    {
     "data": {
      "text/plain": [
       "array([[1.23247e+00, 0.00000e+00, 8.14000e+00, ..., 2.10000e+01,\n",
       "        3.96900e+02, 1.87200e+01],\n",
       "       [2.17700e-02, 8.25000e+01, 2.03000e+00, ..., 1.47000e+01,\n",
       "        3.95380e+02, 3.11000e+00],\n",
       "       [4.89822e+00, 0.00000e+00, 1.81000e+01, ..., 2.02000e+01,\n",
       "        3.75520e+02, 3.26000e+00],\n",
       "       ...,\n",
       "       [3.46600e-02, 3.50000e+01, 6.06000e+00, ..., 1.69000e+01,\n",
       "        3.62250e+02, 7.83000e+00],\n",
       "       [2.14918e+00, 0.00000e+00, 1.95800e+01, ..., 1.47000e+01,\n",
       "        2.61950e+02, 1.57900e+01],\n",
       "       [1.43900e-02, 6.00000e+01, 2.93000e+00, ..., 1.56000e+01,\n",
       "        3.76700e+02, 4.38000e+00]])"
      ]
     },
     "execution_count": 5,
     "metadata": {},
     "output_type": "execute_result"
    }
   ],
   "source": [
    "X_train"
   ]
  },
  {
   "cell_type": "code",
   "execution_count": 6,
   "metadata": {},
   "outputs": [
    {
     "name": "stdout",
     "output_type": "stream",
     "text": [
      "[  1.23247   0.        8.14      0.        0.538     6.142    91.7\n",
      "   3.9769    4.      307.       21.      396.9      18.72   ] 15.2\n"
     ]
    }
   ],
   "source": [
    "# let us view on sample from the features\n",
    "print(X_train[0], y_train[0])"
   ]
  },
  {
   "cell_type": "markdown",
   "metadata": {},
   "source": [
    "### Step2 : Preprocessing:"
   ]
  },
  {
   "cell_type": "code",
   "execution_count": 7,
   "metadata": {},
   "outputs": [
    {
     "name": "stdout",
     "output_type": "stream",
     "text": [
      "[-0.27224633 -0.48361547 -0.43576161 -0.25683275 -0.1652266  -0.1764426\n",
      "  0.81306188  0.1166983  -0.62624905 -0.59517003  1.14850044  0.44807713\n",
      "  0.8252202 ]\n"
     ]
    }
   ],
   "source": [
    "from sklearn.preprocessing import StandardScaler\n",
    "scaler = StandardScaler()\n",
    "\n",
    "# first we fit the scaler on the training dataset\n",
    "scaler.fit(X_train)\n",
    "\n",
    "# then we call the transform method to scale both the training and testing data\n",
    "X_train_scaled = scaler.transform(X_train)\n",
    "X_test_scaled = scaler.transform(X_test)\n",
    "\n",
    "# a sample output\n",
    "print(X_train_scaled[0])"
   ]
  },
  {
   "cell_type": "code",
   "execution_count": 8,
   "metadata": {},
   "outputs": [],
   "source": [
    "### Step 3: Building Model"
   ]
  },
  {
   "cell_type": "code",
   "execution_count": 9,
   "metadata": {},
   "outputs": [],
   "source": [
    "from keras import models, layers"
   ]
  },
  {
   "cell_type": "code",
   "execution_count": 10,
   "metadata": {},
   "outputs": [
    {
     "name": "stdout",
     "output_type": "stream",
     "text": [
      "WARNING:tensorflow:From D:\\Anaconda\\envs\\tf_1.14\\lib\\site-packages\\keras\\backend\\tensorflow_backend.py:58: The name tf.get_default_graph is deprecated. Please use tf.compat.v1.get_default_graph instead.\n",
      "\n",
      "WARNING:tensorflow:From D:\\Anaconda\\envs\\tf_1.14\\lib\\site-packages\\keras\\backend\\tensorflow_backend.py:442: The name tf.placeholder is deprecated. Please use tf.compat.v1.placeholder instead.\n",
      "\n",
      "WARNING:tensorflow:From D:\\Anaconda\\envs\\tf_1.14\\lib\\site-packages\\keras\\backend\\tensorflow_backend.py:3543: The name tf.random_uniform is deprecated. Please use tf.random.uniform instead.\n",
      "\n"
     ]
    }
   ],
   "source": [
    "model = models.Sequential()\n",
    "model.add(layers.Dense(8, activation='relu', input_shape=[X_train.shape[1]]))\n",
    "model.add(layers.Dense(16, activation='relu'))\n",
    "\n",
    "# output layer\n",
    "# model.add(layers.Dense(1))\n",
    "model.add(layers.Dense(1, activation='linear'))"
   ]
  },
  {
   "cell_type": "markdown",
   "metadata": {},
   "source": [
    "### Step 4: COmpling Model"
   ]
  },
  {
   "cell_type": "code",
   "execution_count": 11,
   "metadata": {},
   "outputs": [
    {
     "name": "stdout",
     "output_type": "stream",
     "text": [
      "WARNING:tensorflow:From D:\\Anaconda\\envs\\tf_1.14\\lib\\site-packages\\keras\\optimizers.py:711: The name tf.train.Optimizer is deprecated. Please use tf.compat.v1.train.Optimizer instead.\n",
      "\n"
     ]
    }
   ],
   "source": [
    "model.compile(optimizer='adam', loss='mse', metrics=['mae'])"
   ]
  },
  {
   "cell_type": "code",
   "execution_count": 12,
   "metadata": {},
   "outputs": [],
   "source": [
    "### Step5: Model Training"
   ]
  },
  {
   "cell_type": "code",
   "execution_count": 13,
   "metadata": {},
   "outputs": [
    {
     "name": "stdout",
     "output_type": "stream",
     "text": [
      "WARNING:tensorflow:From D:\\Anaconda\\envs\\tf_1.14\\lib\\site-packages\\keras\\backend\\tensorflow_backend.py:899: The name tf.assign_add is deprecated. Please use tf.compat.v1.assign_add instead.\n",
      "\n",
      "WARNING:tensorflow:From D:\\Anaconda\\envs\\tf_1.14\\lib\\site-packages\\keras\\backend\\tensorflow_backend.py:625: calling Constant.__init__ (from tensorflow.python.ops.init_ops) with dtype is deprecated and will be removed in a future version.\n",
      "Instructions for updating:\n",
      "Call initializer instance with the dtype argument instead of passing it to the constructor\n",
      "WARNING:tensorflow:From D:\\Anaconda\\envs\\tf_1.14\\lib\\site-packages\\keras\\backend\\tensorflow_backend.py:886: The name tf.assign is deprecated. Please use tf.compat.v1.assign instead.\n",
      "\n",
      "Train on 323 samples, validate on 81 samples\n",
      "Epoch 1/100\n",
      "323/323 [==============================] - 0s - loss: 577.7565 - mean_absolute_error: 22.2229 - val_loss: 644.3399 - val_mean_absolute_error: 23.6477\n",
      "Epoch 2/100\n",
      "323/323 [==============================] - 0s - loss: 571.0698 - mean_absolute_error: 22.0515 - val_loss: 637.9653 - val_mean_absolute_error: 23.4998\n",
      "Epoch 3/100\n",
      "323/323 [==============================] - 0s - loss: 564.3362 - mean_absolute_error: 21.8802 - val_loss: 631.2678 - val_mean_absolute_error: 23.3448\n",
      "Epoch 4/100\n",
      "323/323 [==============================] - 0s - loss: 557.1727 - mean_absolute_error: 21.6971 - val_loss: 623.5655 - val_mean_absolute_error: 23.1678\n",
      "Epoch 5/100\n",
      "323/323 [==============================] - 0s - loss: 548.8538 - mean_absolute_error: 21.4881 - val_loss: 614.1042 - val_mean_absolute_error: 22.9532\n",
      "Epoch 6/100\n",
      "323/323 [==============================] - 0s - loss: 538.6142 - mean_absolute_error: 21.2362 - val_loss: 602.8064 - val_mean_absolute_error: 22.6957\n",
      "Epoch 7/100\n",
      "323/323 [==============================] - 0s - loss: 526.9907 - mean_absolute_error: 20.9382 - val_loss: 589.5639 - val_mean_absolute_error: 22.3858\n",
      "Epoch 8/100\n",
      "323/323 [==============================] - ETA: 0s - loss: 433.5959 - mean_absolute_error: 19.21 - 0s - loss: 512.7771 - mean_absolute_error: 20.5828 - val_loss: 574.3338 - val_mean_absolute_error: 22.0216\n",
      "Epoch 9/100\n",
      "323/323 [==============================] - 0s - loss: 496.5515 - mean_absolute_error: 20.1513 - val_loss: 555.9445 - val_mean_absolute_error: 21.5753\n",
      "Epoch 10/100\n",
      "323/323 [==============================] - 0s - loss: 477.3434 - mean_absolute_error: 19.6524 - val_loss: 535.4770 - val_mean_absolute_error: 21.1010\n",
      "Epoch 11/100\n",
      "323/323 [==============================] - 0s - loss: 456.5601 - mean_absolute_error: 19.0962 - val_loss: 513.1949 - val_mean_absolute_error: 20.5670\n",
      "Epoch 12/100\n",
      "323/323 [==============================] - 0s - loss: 433.9925 - mean_absolute_error: 18.4858 - val_loss: 488.5448 - val_mean_absolute_error: 19.9732\n",
      "Epoch 13/100\n",
      "323/323 [==============================] - 0s - loss: 409.5021 - mean_absolute_error: 17.8345 - val_loss: 461.3396 - val_mean_absolute_error: 19.3070\n",
      "Epoch 14/100\n",
      "323/323 [==============================] - 0s - loss: 382.7803 - mean_absolute_error: 17.1603 - val_loss: 433.0737 - val_mean_absolute_error: 18.6054\n",
      "Epoch 15/100\n",
      "323/323 [==============================] - 0s - loss: 355.4637 - mean_absolute_error: 16.4330 - val_loss: 401.3963 - val_mean_absolute_error: 17.8096\n",
      "Epoch 16/100\n",
      "323/323 [==============================] - 0s - loss: 324.7312 - mean_absolute_error: 15.6297 - val_loss: 368.2569 - val_mean_absolute_error: 16.9517\n",
      "Epoch 17/100\n",
      "323/323 [==============================] - 0s - loss: 292.3440 - mean_absolute_error: 14.7638 - val_loss: 332.8107 - val_mean_absolute_error: 16.0305\n",
      "Epoch 18/100\n",
      "323/323 [==============================] - 0s - loss: 260.7667 - mean_absolute_error: 13.8671 - val_loss: 295.2751 - val_mean_absolute_error: 15.0174\n",
      "Epoch 19/100\n",
      "323/323 [==============================] - 0s - loss: 227.3443 - mean_absolute_error: 12.8789 - val_loss: 257.8766 - val_mean_absolute_error: 13.9136\n",
      "Epoch 20/100\n",
      "323/323 [==============================] - 0s - loss: 193.9770 - mean_absolute_error: 11.8579 - val_loss: 222.0761 - val_mean_absolute_error: 12.7646\n",
      "Epoch 21/100\n",
      "323/323 [==============================] - 0s - loss: 162.6616 - mean_absolute_error: 10.7919 - val_loss: 188.9696 - val_mean_absolute_error: 11.5877\n",
      "Epoch 22/100\n",
      "323/323 [==============================] - 0s - loss: 135.2795 - mean_absolute_error: 9.7245 - val_loss: 157.9651 - val_mean_absolute_error: 10.3382\n",
      "Epoch 23/100\n",
      "323/323 [==============================] - 0s - loss: 110.6152 - mean_absolute_error: 8.6493 - val_loss: 133.0151 - val_mean_absolute_error: 9.1709\n",
      "Epoch 24/100\n",
      "323/323 [==============================] - 0s - loss: 90.7228 - mean_absolute_error: 7.6930 - val_loss: 112.8211 - val_mean_absolute_error: 8.1574\n",
      "Epoch 25/100\n",
      "323/323 [==============================] - 0s - loss: 75.6425 - mean_absolute_error: 6.8585 - val_loss: 97.4242 - val_mean_absolute_error: 7.4642\n",
      "Epoch 26/100\n",
      "323/323 [==============================] - 0s - loss: 64.5529 - mean_absolute_error: 6.2089 - val_loss: 85.4847 - val_mean_absolute_error: 6.8944\n",
      "Epoch 27/100\n",
      "323/323 [==============================] - 0s - loss: 56.8370 - mean_absolute_error: 5.7198 - val_loss: 76.4074 - val_mean_absolute_error: 6.4642\n",
      "Epoch 28/100\n",
      "323/323 [==============================] - 0s - loss: 50.9602 - mean_absolute_error: 5.2812 - val_loss: 69.5427 - val_mean_absolute_error: 6.0985\n",
      "Epoch 29/100\n",
      "323/323 [==============================] - 0s - loss: 46.8403 - mean_absolute_error: 4.9630 - val_loss: 64.4418 - val_mean_absolute_error: 5.7969\n",
      "Epoch 30/100\n",
      "323/323 [==============================] - 0s - loss: 43.7648 - mean_absolute_error: 4.6889 - val_loss: 60.3944 - val_mean_absolute_error: 5.5634\n",
      "Epoch 31/100\n",
      "323/323 [==============================] - 0s - loss: 41.0956 - mean_absolute_error: 4.4881 - val_loss: 57.1841 - val_mean_absolute_error: 5.3606\n",
      "Epoch 32/100\n",
      "323/323 [==============================] - 0s - loss: 39.1307 - mean_absolute_error: 4.3335 - val_loss: 54.3070 - val_mean_absolute_error: 5.1767\n",
      "Epoch 33/100\n",
      "323/323 [==============================] - 0s - loss: 37.3481 - mean_absolute_error: 4.2202 - val_loss: 51.4479 - val_mean_absolute_error: 5.0328\n",
      "Epoch 34/100\n",
      "323/323 [==============================] - 0s - loss: 35.9499 - mean_absolute_error: 4.1303 - val_loss: 49.2660 - val_mean_absolute_error: 4.9067\n",
      "Epoch 35/100\n",
      "323/323 [==============================] - 0s - loss: 34.6417 - mean_absolute_error: 4.0313 - val_loss: 47.6322 - val_mean_absolute_error: 4.7915\n",
      "Epoch 36/100\n",
      "323/323 [==============================] - 0s - loss: 33.5513 - mean_absolute_error: 3.9403 - val_loss: 46.4397 - val_mean_absolute_error: 4.7025\n",
      "Epoch 37/100\n",
      "323/323 [==============================] - 0s - loss: 32.5945 - mean_absolute_error: 3.8593 - val_loss: 45.4693 - val_mean_absolute_error: 4.6307\n",
      "Epoch 38/100\n",
      "323/323 [==============================] - 0s - loss: 31.7469 - mean_absolute_error: 3.7939 - val_loss: 44.3699 - val_mean_absolute_error: 4.5623\n",
      "Epoch 39/100\n",
      "323/323 [==============================] - 0s - loss: 31.0956 - mean_absolute_error: 3.7376 - val_loss: 43.3463 - val_mean_absolute_error: 4.5052\n",
      "Epoch 40/100\n",
      "323/323 [==============================] - 0s - loss: 30.4694 - mean_absolute_error: 3.7030 - val_loss: 41.9574 - val_mean_absolute_error: 4.4522\n",
      "Epoch 41/100\n",
      "323/323 [==============================] - 0s - loss: 29.8104 - mean_absolute_error: 3.6912 - val_loss: 40.0316 - val_mean_absolute_error: 4.4075\n",
      "Epoch 42/100\n",
      "323/323 [==============================] - 0s - loss: 29.2338 - mean_absolute_error: 3.6779 - val_loss: 38.9008 - val_mean_absolute_error: 4.3640\n",
      "Epoch 43/100\n",
      "323/323 [==============================] - 0s - loss: 28.7136 - mean_absolute_error: 3.6692 - val_loss: 38.0574 - val_mean_absolute_error: 4.3168\n",
      "Epoch 44/100\n",
      "323/323 [==============================] - 0s - loss: 28.2709 - mean_absolute_error: 3.6360 - val_loss: 37.5899 - val_mean_absolute_error: 4.2619\n",
      "Epoch 45/100\n",
      "323/323 [==============================] - 0s - loss: 27.8977 - mean_absolute_error: 3.6093 - val_loss: 36.9878 - val_mean_absolute_error: 4.2267\n",
      "Epoch 46/100\n",
      "323/323 [==============================] - 0s - loss: 27.5515 - mean_absolute_error: 3.5833 - val_loss: 36.7255 - val_mean_absolute_error: 4.1957\n",
      "Epoch 47/100\n",
      "323/323 [==============================] - 0s - loss: 27.2481 - mean_absolute_error: 3.5572 - val_loss: 36.3377 - val_mean_absolute_error: 4.1713\n",
      "Epoch 48/100\n",
      "323/323 [==============================] - 0s - loss: 26.9601 - mean_absolute_error: 3.5434 - val_loss: 35.8996 - val_mean_absolute_error: 4.1470\n",
      "Epoch 49/100\n",
      "323/323 [==============================] - 0s - loss: 26.6793 - mean_absolute_error: 3.5271 - val_loss: 35.4017 - val_mean_absolute_error: 4.1131\n",
      "Epoch 50/100\n",
      "323/323 [==============================] - 0s - loss: 26.3638 - mean_absolute_error: 3.5188 - val_loss: 34.5932 - val_mean_absolute_error: 4.0671\n",
      "Epoch 51/100\n",
      "323/323 [==============================] - 0s - loss: 26.1328 - mean_absolute_error: 3.5141 - val_loss: 34.0759 - val_mean_absolute_error: 4.0402\n",
      "Epoch 52/100\n",
      "323/323 [==============================] - 0s - loss: 25.8234 - mean_absolute_error: 3.4926 - val_loss: 33.8043 - val_mean_absolute_error: 3.9954\n",
      "Epoch 53/100\n",
      "323/323 [==============================] - 0s - loss: 25.6533 - mean_absolute_error: 3.4680 - val_loss: 33.6159 - val_mean_absolute_error: 3.9658\n",
      "Epoch 54/100\n",
      "323/323 [==============================] - 0s - loss: 25.3995 - mean_absolute_error: 3.4425 - val_loss: 33.3300 - val_mean_absolute_error: 3.9388\n",
      "Epoch 55/100\n",
      "323/323 [==============================] - 0s - loss: 25.1736 - mean_absolute_error: 3.4385 - val_loss: 32.7481 - val_mean_absolute_error: 3.9282\n",
      "Epoch 56/100\n",
      "323/323 [==============================] - 0s - loss: 24.9777 - mean_absolute_error: 3.4367 - val_loss: 32.3819 - val_mean_absolute_error: 3.9035\n",
      "Epoch 57/100\n",
      "323/323 [==============================] - 0s - loss: 24.7866 - mean_absolute_error: 3.4289 - val_loss: 31.8905 - val_mean_absolute_error: 3.8752\n",
      "Epoch 58/100\n",
      "323/323 [==============================] - 0s - loss: 24.5340 - mean_absolute_error: 3.4229 - val_loss: 31.4261 - val_mean_absolute_error: 3.8448\n",
      "Epoch 59/100\n",
      "323/323 [==============================] - 0s - loss: 24.3294 - mean_absolute_error: 3.4096 - val_loss: 31.1395 - val_mean_absolute_error: 3.8273\n",
      "Epoch 60/100\n",
      "323/323 [==============================] - 0s - loss: 24.1250 - mean_absolute_error: 3.4042 - val_loss: 30.7599 - val_mean_absolute_error: 3.8197\n",
      "Epoch 61/100\n",
      "323/323 [==============================] - 0s - loss: 23.9717 - mean_absolute_error: 3.3990 - val_loss: 30.3907 - val_mean_absolute_error: 3.7984\n",
      "Epoch 62/100\n",
      "323/323 [==============================] - 0s - loss: 23.7721 - mean_absolute_error: 3.3912 - val_loss: 30.1459 - val_mean_absolute_error: 3.7925\n",
      "Epoch 63/100\n",
      "323/323 [==============================] - 0s - loss: 23.5670 - mean_absolute_error: 3.3799 - val_loss: 29.8829 - val_mean_absolute_error: 3.7745\n",
      "Epoch 64/100\n",
      "323/323 [==============================] - 0s - loss: 23.3356 - mean_absolute_error: 3.3832 - val_loss: 29.4034 - val_mean_absolute_error: 3.7744\n",
      "Epoch 65/100\n",
      "323/323 [==============================] - 0s - loss: 23.2555 - mean_absolute_error: 3.3930 - val_loss: 29.2129 - val_mean_absolute_error: 3.7750\n",
      "Epoch 66/100\n",
      "323/323 [==============================] - 0s - loss: 23.0841 - mean_absolute_error: 3.3803 - val_loss: 29.0868 - val_mean_absolute_error: 3.7562\n",
      "Epoch 67/100\n",
      "323/323 [==============================] - 0s - loss: 22.8798 - mean_absolute_error: 3.3639 - val_loss: 28.8936 - val_mean_absolute_error: 3.7425\n",
      "Epoch 68/100\n",
      "323/323 [==============================] - 0s - loss: 22.6740 - mean_absolute_error: 3.3495 - val_loss: 28.6400 - val_mean_absolute_error: 3.7447\n",
      "Epoch 69/100\n",
      "323/323 [==============================] - 0s - loss: 22.5031 - mean_absolute_error: 3.3535 - val_loss: 27.8721 - val_mean_absolute_error: 3.7679\n",
      "Epoch 70/100\n",
      "323/323 [==============================] - 0s - loss: 22.4139 - mean_absolute_error: 3.3677 - val_loss: 27.5420 - val_mean_absolute_error: 3.7515\n",
      "Epoch 71/100\n",
      "323/323 [==============================] - 0s - loss: 22.0998 - mean_absolute_error: 3.3380 - val_loss: 27.3508 - val_mean_absolute_error: 3.6899\n",
      "Epoch 72/100\n",
      "323/323 [==============================] - 0s - loss: 21.8682 - mean_absolute_error: 3.3102 - val_loss: 27.2933 - val_mean_absolute_error: 3.6577\n",
      "Epoch 73/100\n",
      "323/323 [==============================] - 0s - loss: 21.7624 - mean_absolute_error: 3.2941 - val_loss: 27.1841 - val_mean_absolute_error: 3.6383\n",
      "Epoch 74/100\n",
      "323/323 [==============================] - 0s - loss: 21.5481 - mean_absolute_error: 3.2777 - val_loss: 26.9909 - val_mean_absolute_error: 3.6312\n",
      "Epoch 75/100\n",
      "323/323 [==============================] - 0s - loss: 21.4188 - mean_absolute_error: 3.2686 - val_loss: 26.9002 - val_mean_absolute_error: 3.6232\n",
      "Epoch 76/100\n",
      "323/323 [==============================] - 0s - loss: 21.3317 - mean_absolute_error: 3.2603 - val_loss: 26.7202 - val_mean_absolute_error: 3.5952\n",
      "Epoch 77/100\n",
      "323/323 [==============================] - 0s - loss: 21.1220 - mean_absolute_error: 3.2429 - val_loss: 26.4193 - val_mean_absolute_error: 3.5874\n",
      "Epoch 78/100\n",
      "323/323 [==============================] - 0s - loss: 20.9939 - mean_absolute_error: 3.2376 - val_loss: 26.2579 - val_mean_absolute_error: 3.5839\n",
      "Epoch 79/100\n",
      "323/323 [==============================] - 0s - loss: 20.8695 - mean_absolute_error: 3.2290 - val_loss: 25.9860 - val_mean_absolute_error: 3.5667\n",
      "Epoch 80/100\n",
      "323/323 [==============================] - 0s - loss: 20.6998 - mean_absolute_error: 3.2146 - val_loss: 25.8452 - val_mean_absolute_error: 3.5420\n",
      "Epoch 81/100\n",
      "323/323 [==============================] - 0s - loss: 20.5549 - mean_absolute_error: 3.2004 - val_loss: 25.6143 - val_mean_absolute_error: 3.5232\n",
      "Epoch 82/100\n",
      "323/323 [==============================] - 0s - loss: 20.4246 - mean_absolute_error: 3.1909 - val_loss: 25.4374 - val_mean_absolute_error: 3.5212\n",
      "Epoch 83/100\n",
      "323/323 [==============================] - 0s - loss: 20.2846 - mean_absolute_error: 3.1804 - val_loss: 25.2191 - val_mean_absolute_error: 3.5066\n",
      "Epoch 84/100\n",
      "323/323 [==============================] - 0s - loss: 20.1598 - mean_absolute_error: 3.1762 - val_loss: 24.9277 - val_mean_absolute_error: 3.5075\n",
      "Epoch 85/100\n",
      "323/323 [==============================] - 0s - loss: 19.9777 - mean_absolute_error: 3.1571 - val_loss: 24.8176 - val_mean_absolute_error: 3.4940\n",
      "Epoch 86/100\n",
      "323/323 [==============================] - 0s - loss: 19.8433 - mean_absolute_error: 3.1480 - val_loss: 24.7114 - val_mean_absolute_error: 3.4866\n",
      "Epoch 87/100\n",
      "323/323 [==============================] - 0s - loss: 19.7132 - mean_absolute_error: 3.1347 - val_loss: 24.5665 - val_mean_absolute_error: 3.4782\n",
      "Epoch 88/100\n",
      "323/323 [==============================] - 0s - loss: 19.5434 - mean_absolute_error: 3.1266 - val_loss: 24.3245 - val_mean_absolute_error: 3.4732\n",
      "Epoch 89/100\n",
      "323/323 [==============================] - 0s - loss: 19.3779 - mean_absolute_error: 3.1140 - val_loss: 24.2195 - val_mean_absolute_error: 3.4533\n",
      "Epoch 90/100\n",
      "323/323 [==============================] - 0s - loss: 19.2644 - mean_absolute_error: 3.0997 - val_loss: 24.0125 - val_mean_absolute_error: 3.4346\n",
      "Epoch 91/100\n",
      "323/323 [==============================] - 0s - loss: 19.1245 - mean_absolute_error: 3.0880 - val_loss: 23.7979 - val_mean_absolute_error: 3.4187\n",
      "Epoch 92/100\n",
      "323/323 [==============================] - 0s - loss: 18.9833 - mean_absolute_error: 3.0807 - val_loss: 23.6087 - val_mean_absolute_error: 3.4200\n",
      "Epoch 93/100\n",
      "323/323 [==============================] - 0s - loss: 18.8647 - mean_absolute_error: 3.0709 - val_loss: 23.3205 - val_mean_absolute_error: 3.4096\n",
      "Epoch 94/100\n",
      "323/323 [==============================] - 0s - loss: 18.8020 - mean_absolute_error: 3.0693 - val_loss: 22.9963 - val_mean_absolute_error: 3.4201\n",
      "Epoch 95/100\n",
      "323/323 [==============================] - 0s - loss: 18.8482 - mean_absolute_error: 3.0794 - val_loss: 22.7581 - val_mean_absolute_error: 3.4131\n",
      "Epoch 96/100\n",
      "323/323 [==============================] - 0s - loss: 18.6135 - mean_absolute_error: 3.0574 - val_loss: 22.3323 - val_mean_absolute_error: 3.3534\n",
      "Epoch 97/100\n"
     ]
    },
    {
     "name": "stdout",
     "output_type": "stream",
     "text": [
      "323/323 [==============================] - 0s - loss: 18.3507 - mean_absolute_error: 3.0411 - val_loss: 21.9914 - val_mean_absolute_error: 3.3194\n",
      "Epoch 98/100\n",
      "323/323 [==============================] - 0s - loss: 18.2363 - mean_absolute_error: 3.0280 - val_loss: 21.9353 - val_mean_absolute_error: 3.2928\n",
      "Epoch 99/100\n",
      "323/323 [==============================] - 0s - loss: 18.0677 - mean_absolute_error: 3.0128 - val_loss: 21.7431 - val_mean_absolute_error: 3.2905\n",
      "Epoch 100/100\n",
      "323/323 [==============================] - 0s - loss: 17.9227 - mean_absolute_error: 3.0046 - val_loss: 21.6469 - val_mean_absolute_error: 3.2862\n"
     ]
    }
   ],
   "source": [
    "history = model.fit(X_train_scaled, y_train, validation_split=0.2, epochs=100)"
   ]
  },
  {
   "cell_type": "code",
   "execution_count": 14,
   "metadata": {},
   "outputs": [
    {
     "name": "stdout",
     "output_type": "stream",
     "text": [
      "dict_keys(['val_loss', 'val_mean_absolute_error', 'loss', 'mean_absolute_error'])\n"
     ]
    },
    {
     "data": {
      "image/png": "[encoded data removed]",
      "text/plain": [
       "<Figure size 432x288 with 1 Axes>"
      ]
     },
     "metadata": {
      "needs_background": "light"
     },
     "output_type": "display_data"
    }
   ],
   "source": [
    "print(history.history.keys())\n",
    "# summarize history for accuracy\n",
    "plt.plot(history.history['mean_absolute_error'])\n",
    "plt.plot(history.history['val_mean_absolute_error'])\n",
    "plt.title('model accuracy')\n",
    "plt.ylabel('accuracy')\n",
    "plt.xlabel('epoch')\n",
    "plt.legend(['train', 'test'], loc='upper left')\n",
    "plt.show()"
   ]
  },
  {
   "cell_type": "markdown",
   "metadata": {},
   "source": [
    "### STEP5: EVALUATING"
   ]
  },
  {
   "cell_type": "code",
   "execution_count": 15,
   "metadata": {},
   "outputs": [
    {
     "name": "stdout",
     "output_type": "stream",
     "text": [
      "\r",
      " 32/102 [========>.....................] - ETA: 0s"
     ]
    },
    {
     "data": {
      "text/plain": [
       "[20.385016946231616, 3.466339260924096]"
      ]
     },
     "execution_count": 15,
     "metadata": {},
     "output_type": "execute_result"
    }
   ],
   "source": [
    "model.evaluate(X_test_scaled, y_test)"
   ]
  },
  {
   "cell_type": "markdown",
   "metadata": {},
   "source": [
    "### STEP6: Prediction"
   ]
  },
  {
   "cell_type": "code",
   "execution_count": 16,
   "metadata": {},
   "outputs": [],
   "source": [
    "# we get a sample data (the first 2 inputs from the training data)\n",
    "to_predict = X_train_scaled[:2]"
   ]
  },
  {
   "cell_type": "code",
   "execution_count": 17,
   "metadata": {},
   "outputs": [],
   "source": [
    "# we call the predict method\n",
    "predictions = model.predict(to_predict)"
   ]
  },
  {
   "cell_type": "code",
   "execution_count": 18,
   "metadata": {},
   "outputs": [
    {
     "name": "stdout",
     "output_type": "stream",
     "text": [
      "[[13.428633]\n",
      " [40.264557]]\n"
     ]
    }
   ],
   "source": [
    "# print the predictions\n",
    "print(predictions)"
   ]
  },
  {
   "cell_type": "code",
   "execution_count": 19,
   "metadata": {},
   "outputs": [
    {
     "name": "stdout",
     "output_type": "stream",
     "text": [
      "[15.2 42.3]\n"
     ]
    }
   ],
   "source": [
    "# print the real values\n",
    "print(y_train[:2])"
   ]
  },
  {
   "cell_type": "markdown",
   "metadata": {},
   "source": [
    "### STEP7: Saving model"
   ]
  },
  {
   "cell_type": "code",
   "execution_count": null,
   "metadata": {},
   "outputs": [],
   "source": [
    "print(\"Saving model to disk \\n\")\n",
    "mp = \"D:\\\\1. Machine Learning\\\\Practical\\\\DL\\\\Krish\\\\Models\\\\iris_model.h5\"\n",
    "model.save(mp)"
   ]
  }
 ],
 "metadata": {
  "kernelspec": {
   "display_name": "Python 3",
   "language": "python",
   "name": "python3"
  },
  "language_info": {
   "codemirror_mode": {
    "name": "ipython",
    "version": 3
   },
   "file_extension": ".py",
   "mimetype": "text/x-python",
   "name": "python",
   "nbconvert_exporter": "python",
   "pygments_lexer": "ipython3",
   "version": "3.7.7"
  }
 },
 "nbformat": 4,
 "nbformat_minor": 4
}
